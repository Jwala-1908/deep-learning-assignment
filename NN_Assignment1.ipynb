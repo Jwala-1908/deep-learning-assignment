{
 "cells": [
  {
   "cell_type": "markdown",
   "metadata": {},
   "source": [
    "# Neural Networks\n",
    "Prajjwal Vijaywargiya - 2017B3A70954H  \n",
    "Siddhi Mahesh Burse - 2017B3A70972H  \n",
    "Parth Krishna Sharma - 2017B3A70907H"
   ]
  },
  {
   "cell_type": "code",
   "execution_count": 1,
   "metadata": {
    "id": "49pnFPflLqWq"
   },
   "outputs": [],
   "source": [
    "import numpy as np\n",
    "import pandas as pd\n",
    "import matplotlib.pyplot as plt\n",
    "import seaborn as sns\n",
    "import tensorflow as tf\n",
    "from tensorflow import keras\n",
    "from tensorflow.keras.utils import to_categorical\n",
    "from sklearn.metrics import classification_report,confusion_matrix,accuracy_score"
   ]
  },
  {
   "cell_type": "code",
   "execution_count": 2,
   "metadata": {
    "id": "m4MOzj5XMC_r"
   },
   "outputs": [],
   "source": [
    "from tensorflow.keras.datasets import mnist"
   ]
  },
  {
   "cell_type": "code",
   "execution_count": 3,
   "metadata": {
    "colab": {
     "base_uri": "https://localhost:8080/",
     "height": 35
    },
    "id": "kFblUrPfMbmG",
    "outputId": "993341f6-804b-46dd-d798-168ce4602e6d"
   },
   "outputs": [
    {
     "data": {
      "text/plain": [
       "''"
      ]
     },
     "execution_count": 3,
     "metadata": {},
     "output_type": "execute_result"
    }
   ],
   "source": [
    "tf.test.gpu_device_name()"
   ]
  },
  {
   "cell_type": "code",
   "execution_count": 4,
   "metadata": {
    "colab": {
     "base_uri": "https://localhost:8080/",
     "height": 0
    },
    "id": "aDvpybxEMlwh",
    "outputId": "0653fcd7-2f66-4c1d-aaa4-3cc3933768ae"
   },
   "outputs": [],
   "source": [
    "(X_train,y_train),(X_test,y_test) = mnist.load_data()"
   ]
  },
  {
   "cell_type": "code",
   "execution_count": 5,
   "metadata": {
    "id": "Zuc8qHZYMnCo"
   },
   "outputs": [],
   "source": [
    "y_cat_test = to_categorical(y_test,10)\n",
    "y_cat_train = to_categorical(y_train,10)"
   ]
  },
  {
   "cell_type": "code",
   "execution_count": 6,
   "metadata": {
    "id": "d4cxztHrMpMA"
   },
   "outputs": [],
   "source": [
    "X_train,X_test = X_train/255, X_test/255"
   ]
  },
  {
   "cell_type": "code",
   "execution_count": 7,
   "metadata": {
    "colab": {
     "base_uri": "https://localhost:8080/",
     "height": 282
    },
    "id": "hrWsDvQoMskE",
    "outputId": "8040351c-744e-4e94-cb63-1452526e9f89"
   },
   "outputs": [
    {
     "name": "stdout",
     "output_type": "stream",
     "text": [
      "9\n"
     ]
    },
    {
     "data": {
      "image/png": "[encoded data removed]",
      "text/plain": [
       "<Figure size 432x288 with 1 Axes>"
      ]
     },
     "metadata": {
      "needs_background": "light",
      "tags": []
     },
     "output_type": "display_data"
    }
   ],
   "source": [
    "plt.imshow(X_train[19])\n",
    "print(y_train[19])"
   ]
  },
  {
   "cell_type": "markdown",
   "metadata": {
    "id": "F6hWxV2yM1Cx"
   },
   "source": [
    "# DEFAULT MODEL\n",
    "MODEL:  \n",
    "layers - 1  \n",
    "units - 128  \n",
    "activation - relu  \n",
    "loss - sparse_categorical_crossentropy  \n",
    "optimizer - adam  \n",
    "epochs - 10"
   ]
  },
  {
   "cell_type": "code",
   "execution_count": 8,
   "metadata": {
    "colab": {
     "base_uri": "https://localhost:8080/",
     "height": 0
    },
    "id": "0Gu1RcWFMvEM",
    "outputId": "95664078-53ec-4a78-dd62-98b7e5b6b3a9",
    "scrolled": false
   },
   "outputs": [
    {
     "name": "stdout",
     "output_type": "stream",
     "text": [
      "Epoch 1/10\n",
      "1875/1875 [==============================] - 3s 2ms/step - loss: 0.2544 - accuracy: 0.9282\n",
      "Epoch 2/10\n",
      "1875/1875 [==============================] - 3s 2ms/step - loss: 0.1122 - accuracy: 0.9669\n",
      "Epoch 3/10\n",
      "1875/1875 [==============================] - 3s 2ms/step - loss: 0.0767 - accuracy: 0.9766\n",
      "Epoch 4/10\n",
      "1875/1875 [==============================] - 3s 2ms/step - loss: 0.0576 - accuracy: 0.9830\n",
      "Epoch 5/10\n",
      "1875/1875 [==============================] - 3s 2ms/step - loss: 0.0435 - accuracy: 0.9866\n",
      "Epoch 6/10\n",
      "1875/1875 [==============================] - 3s 2ms/step - loss: 0.0344 - accuracy: 0.9893\n",
      "Epoch 7/10\n",
      "1875/1875 [==============================] - 3s 2ms/step - loss: 0.0276 - accuracy: 0.9917\n",
      "Epoch 8/10\n",
      "1875/1875 [==============================] - 3s 2ms/step - loss: 0.0217 - accuracy: 0.9938\n",
      "Epoch 9/10\n",
      "1875/1875 [==============================] - 3s 2ms/step - loss: 0.0184 - accuracy: 0.9944\n",
      "Epoch 10/10\n",
      "1875/1875 [==============================] - 3s 2ms/step - loss: 0.0163 - accuracy: 0.9949\n"
     ]
    }
   ],
   "source": [
    "model_def = keras.Sequential([\n",
    "                              keras.layers.Flatten(input_shape=(28,28)),\n",
    "                              keras.layers.Dense(128,activation='relu'),\n",
    "                              keras.layers.Dense(10,activation='softmax')\n",
    "])\n",
    "\n",
    "model_def.compile(loss='sparse_categorical_crossentropy',optimizer='adam',metrics=['accuracy'])\n",
    "n_epochs=10\n",
    "fit_def = model_def.fit(X_train,y_train,epochs=n_epochs,verbose=1)"
   ]
  },
  {
   "cell_type": "code",
   "execution_count": 9,
   "metadata": {
    "colab": {
     "base_uri": "https://localhost:8080/",
     "height": 0
    },
    "id": "Jkop3mFfNdWG",
    "outputId": "34110f28-8423-4e81-ed6d-e66724d28065"
   },
   "outputs": [
    {
     "name": "stdout",
     "output_type": "stream",
     "text": [
      "1875/1875 [==============================] - 3s 1ms/step - loss: 0.0100 - accuracy: 0.9974\n"
     ]
    }
   ],
   "source": [
    "eval_train_def = model_def.evaluate(X_train,y_train)"
   ]
  },
  {
   "cell_type": "code",
   "execution_count": 10,
   "metadata": {
    "colab": {
     "base_uri": "https://localhost:8080/",
     "height": 0
    },
    "id": "9cPZD0wJNFEJ",
    "outputId": "a0cfa276-7064-4355-caa8-4f7f784c334a"
   },
   "outputs": [
    {
     "name": "stdout",
     "output_type": "stream",
     "text": [
      "313/313 [==============================] - 1s 2ms/step - loss: 0.0849 - accuracy: 0.9774\n"
     ]
    }
   ],
   "source": [
    "eval_test_def = model_def.evaluate(X_test,y_test)"
   ]
  },
  {
   "cell_type": "markdown",
   "metadata": {
    "id": "Lb0KqXpgNQu5"
   },
   "source": [
    "# VARYING LAYERS\n",
    "MODEL:  \n",
    "layers - 1,2,4,8,10  \n",
    "units - 128  \n",
    "activation - relu  \n",
    "loss - sparse_categorical_crossentropy  \n",
    "optimizer - adam  \n",
    "epochs - 10"
   ]
  },
  {
   "cell_type": "code",
   "execution_count": 11,
   "metadata": {
    "colab": {
     "base_uri": "https://localhost:8080/",
     "height": 0
    },
    "id": "8ZKKhVb4NOKp",
    "outputId": "d81251b8-8e55-486f-855d-5a0e66a90dab",
    "scrolled": true
   },
   "outputs": [
    {
     "name": "stdout",
     "output_type": "stream",
     "text": [
      "Epoch 1/10\n",
      "1875/1875 [==============================] - 3s 2ms/step - loss: 0.2298 - accuracy: 0.9322\n",
      "Epoch 2/10\n",
      "1875/1875 [==============================] - 3s 2ms/step - loss: 0.0999 - accuracy: 0.9682\n",
      "Epoch 3/10\n",
      "1875/1875 [==============================] - 3s 2ms/step - loss: 0.0678 - accuracy: 0.9784\n",
      "Epoch 4/10\n",
      "1875/1875 [==============================] - 3s 2ms/step - loss: 0.0510 - accuracy: 0.9833\n",
      "Epoch 5/10\n",
      "1875/1875 [==============================] - 3s 2ms/step - loss: 0.0412 - accuracy: 0.9864\n",
      "Epoch 6/10\n",
      "1875/1875 [==============================] - 3s 2ms/step - loss: 0.0327 - accuracy: 0.9895\n",
      "Epoch 7/10\n",
      "1875/1875 [==============================] - 3s 2ms/step - loss: 0.0279 - accuracy: 0.9908\n",
      "Epoch 8/10\n",
      "1875/1875 [==============================] - 3s 2ms/step - loss: 0.0239 - accuracy: 0.9917\n",
      "Epoch 9/10\n",
      "1875/1875 [==============================] - 3s 2ms/step - loss: 0.0200 - accuracy: 0.9931\n",
      "Epoch 10/10\n",
      "1875/1875 [==============================] - 3s 2ms/step - loss: 0.0186 - accuracy: 0.9942\n",
      "313/313 [==============================] - 0s 2ms/step - loss: 0.1003 - accuracy: 0.9790\n",
      "1875/1875 [==============================] - 3s 2ms/step - loss: 0.0151 - accuracy: 0.9951\n",
      "Epoch 1/10\n",
      "1875/1875 [==============================] - 3s 2ms/step - loss: 0.2293 - accuracy: 0.9310\n",
      "Epoch 2/10\n",
      "1875/1875 [==============================] - 3s 2ms/step - loss: 0.1071 - accuracy: 0.9674\n",
      "Epoch 3/10\n",
      "1875/1875 [==============================] - 3s 2ms/step - loss: 0.0768 - accuracy: 0.9761\n",
      "Epoch 4/10\n",
      "1875/1875 [==============================] - 4s 2ms/step - loss: 0.0634 - accuracy: 0.9802\n",
      "Epoch 5/10\n",
      "1875/1875 [==============================] - 4s 2ms/step - loss: 0.0517 - accuracy: 0.9836\n",
      "Epoch 6/10\n",
      "1875/1875 [==============================] - 4s 2ms/step - loss: 0.0449 - accuracy: 0.9863\n",
      "Epoch 7/10\n",
      "1875/1875 [==============================] - 3s 2ms/step - loss: 0.0385 - accuracy: 0.9880\n",
      "Epoch 8/10\n",
      "1875/1875 [==============================] - 3s 2ms/step - loss: 0.0325 - accuracy: 0.9895\n",
      "Epoch 9/10\n",
      "1875/1875 [==============================] - 3s 2ms/step - loss: 0.0299 - accuracy: 0.9906\n",
      "Epoch 10/10\n",
      "1875/1875 [==============================] - 4s 2ms/step - loss: 0.0277 - accuracy: 0.9913\n",
      "313/313 [==============================] - 1s 2ms/step - loss: 0.1162 - accuracy: 0.9746\n",
      "1875/1875 [==============================] - 3s 2ms/step - loss: 0.0254 - accuracy: 0.9923\n",
      "Epoch 1/10\n",
      "1875/1875 [==============================] - 4s 2ms/step - loss: 0.2906 - accuracy: 0.9119\n",
      "Epoch 2/10\n",
      "1875/1875 [==============================] - 4s 2ms/step - loss: 0.1345 - accuracy: 0.9620\n",
      "Epoch 3/10\n",
      "1875/1875 [==============================] - 4s 2ms/step - loss: 0.1081 - accuracy: 0.9697\n",
      "Epoch 4/10\n",
      "1875/1875 [==============================] - 4s 2ms/step - loss: 0.0874 - accuracy: 0.9763\n",
      "Epoch 5/10\n",
      "1875/1875 [==============================] - 4s 2ms/step - loss: 0.0751 - accuracy: 0.9802\n",
      "Epoch 6/10\n",
      "1875/1875 [==============================] - 4s 2ms/step - loss: 0.0656 - accuracy: 0.9820\n",
      "Epoch 7/10\n",
      "1875/1875 [==============================] - 4s 2ms/step - loss: 0.0587 - accuracy: 0.9847\n",
      "Epoch 8/10\n",
      "1875/1875 [==============================] - 4s 2ms/step - loss: 0.0510 - accuracy: 0.9868\n",
      "Epoch 9/10\n",
      "1875/1875 [==============================] - 4s 2ms/step - loss: 0.0515 - accuracy: 0.9867\n",
      "Epoch 10/10\n",
      "1875/1875 [==============================] - 4s 2ms/step - loss: 0.0436 - accuracy: 0.9881\n",
      "313/313 [==============================] - 1s 2ms/step - loss: 0.0877 - accuracy: 0.9775\n",
      "1875/1875 [==============================] - 3s 2ms/step - loss: 0.0303 - accuracy: 0.9915\n",
      "Epoch 1/10\n",
      "1875/1875 [==============================] - 4s 2ms/step - loss: 0.3217 - accuracy: 0.9043\n",
      "Epoch 2/10\n",
      "1875/1875 [==============================] - 4s 2ms/step - loss: 0.1536 - accuracy: 0.9596\n",
      "Epoch 3/10\n",
      "1875/1875 [==============================] - 4s 2ms/step - loss: 0.1187 - accuracy: 0.9690\n",
      "Epoch 4/10\n",
      "1875/1875 [==============================] - 4s 2ms/step - loss: 0.0977 - accuracy: 0.9747\n",
      "Epoch 5/10\n",
      "1875/1875 [==============================] - 4s 2ms/step - loss: 0.0866 - accuracy: 0.9778\n",
      "Epoch 6/10\n",
      "1875/1875 [==============================] - 5s 2ms/step - loss: 0.0771 - accuracy: 0.9802\n",
      "Epoch 7/10\n",
      "1875/1875 [==============================] - 4s 2ms/step - loss: 0.0676 - accuracy: 0.9826\n",
      "Epoch 8/10\n",
      "1875/1875 [==============================] - 4s 2ms/step - loss: 0.0621 - accuracy: 0.9842\n",
      "Epoch 9/10\n",
      "1875/1875 [==============================] - 4s 2ms/step - loss: 0.0554 - accuracy: 0.9859\n",
      "Epoch 10/10\n",
      "1875/1875 [==============================] - 4s 2ms/step - loss: 0.0513 - accuracy: 0.9866\n",
      "313/313 [==============================] - 1s 2ms/step - loss: 0.1099 - accuracy: 0.9772\n",
      "1875/1875 [==============================] - 4s 2ms/step - loss: 0.0371 - accuracy: 0.9905\n"
     ]
    }
   ],
   "source": [
    "model_test_layer = []\n",
    "model_train_layer = []\n",
    "model_train_layer.append(eval_train_def[-1]*100)\n",
    "model_test_layer.append(eval_test_def[-1]*100)\n",
    "num_layer = [2,4,8,10]\n",
    "for n in num_layer:\n",
    "    model_x = keras.Sequential(keras.layers.Flatten(input_shape=(28,28)))\n",
    "    for i in range(n):\n",
    "    model_x.add(keras.layers.Dense(128,activation='relu',))\n",
    "    model_x.add(keras.layers.Dense(10,activation='softmax'))\n",
    "    model_x.compile(loss='sparse_categorical_crossentropy',optimizer='adam',metrics=['accuracy'])\n",
    "    n_epochs=10\n",
    "    fit_layer = model_x.fit(X_train,y_train,epochs=n_epochs,verbose=1)\n",
    "    ev_test = model_x.evaluate(X_test,y_test)\n",
    "    ev_train = model_x.evaluate(X_train,y_train)\n",
    "    model_test_layer.append(ev_test[-1]*100)\n",
    "    model_train_layer.append(ev_train[-1]*100)\n"
   ]
  },
  {
   "cell_type": "code",
   "execution_count": 12,
   "metadata": {
    "colab": {
     "base_uri": "https://localhost:8080/",
     "height": 0
    },
    "id": "t6ZZzroIPQNW",
    "outputId": "05b20581-ded6-4e58-e1c3-6b854ea02c00"
   },
   "outputs": [
    {
     "data": {
      "text/plain": [
       "([97.7400004863739,\n",
       "  97.89999723434448,\n",
       "  97.46000170707703,\n",
       "  97.75000214576721,\n",
       "  97.71999716758728],\n",
       " [99.74166750907898,\n",
       "  99.50666427612305,\n",
       "  99.22999739646912,\n",
       "  99.14666414260864,\n",
       "  99.04666543006897])"
      ]
     },
     "execution_count": 12,
     "metadata": {
      "tags": []
     },
     "output_type": "execute_result"
    }
   ],
   "source": [
    "model_test_layer, model_train_layer"
   ]
  },
  {
   "cell_type": "code",
   "execution_count": 13,
   "metadata": {
    "colab": {
     "base_uri": "https://localhost:8080/",
     "height": 312
    },
    "id": "2utBPSAgPWWW",
    "outputId": "5cb01515-b890-41de-c682-4242ec0e47da"
   },
   "outputs": [
    {
     "data": {
      "text/plain": [
       "Text(0.5, 1.0, 'Accuracy vs Number of Layers')"
      ]
     },
     "execution_count": 13,
     "metadata": {
      "tags": []
     },
     "output_type": "execute_result"
    },
    {
     "data": {
      "image/png": "[encoded data removed]",
      "text/plain": [
       "<Figure size 432x288 with 1 Axes>"
      ]
     },
     "metadata": {
      "needs_background": "light",
      "tags": []
     },
     "output_type": "display_data"
    }
   ],
   "source": [
    "plt.plot([1,2,4,8,10],model_train_layer,'b')\n",
    "plt.plot([1,2,4,8,10],model_test_layer,'r')\n",
    "plt.legend(['Training','Testing'])\n",
    "plt.xlabel(\"Number of layers\")\n",
    "plt.ylabel(\"Accuracy (%)\")\n",
    "plt.ylim((96,100))\n",
    "plt.title(\"Accuracy vs Number of Layers\")"
   ]
  },
  {
   "cell_type": "markdown",
   "metadata": {
    "id": "bPK8SSFy6t5l"
   },
   "source": [
    "# VARYING UNITS\n",
    "MODEL:  \n",
    "layers - 2  \n",
    "units - 128  \n",
    "activation - relu  \n",
    "loss - sparse_categorical_crossentropy  \n",
    "optimizer - adam  \n",
    "epochs - 10"
   ]
  },
  {
   "cell_type": "code",
   "execution_count": 15,
   "metadata": {
    "colab": {
     "base_uri": "https://localhost:8080/",
     "height": 0
    },
    "id": "iTxJcDaNu-Ud",
    "outputId": "8e026e83-f9a7-4cbd-8a9e-6ba79491e290",
    "scrolled": true
   },
   "outputs": [
    {
     "name": "stdout",
     "output_type": "stream",
     "text": [
      "Epoch 1/10\n",
      "1875/1875 [==============================] - 3s 2ms/step - loss: 0.4131 - accuracy: 0.8776\n",
      "Epoch 2/10\n",
      "1875/1875 [==============================] - 3s 2ms/step - loss: 0.2283 - accuracy: 0.9348\n",
      "Epoch 3/10\n",
      "1875/1875 [==============================] - 3s 2ms/step - loss: 0.1971 - accuracy: 0.9419\n",
      "Epoch 4/10\n",
      "1875/1875 [==============================] - 3s 2ms/step - loss: 0.1765 - accuracy: 0.9489\n",
      "Epoch 5/10\n",
      "1875/1875 [==============================] - 3s 2ms/step - loss: 0.1638 - accuracy: 0.9524\n",
      "Epoch 6/10\n",
      "1875/1875 [==============================] - 3s 2ms/step - loss: 0.1519 - accuracy: 0.9548\n",
      "Epoch 7/10\n",
      "1875/1875 [==============================] - 3s 2ms/step - loss: 0.1447 - accuracy: 0.9571\n",
      "Epoch 8/10\n",
      "1875/1875 [==============================] - 3s 2ms/step - loss: 0.1383 - accuracy: 0.9583\n",
      "Epoch 9/10\n",
      "1875/1875 [==============================] - 3s 2ms/step - loss: 0.1327 - accuracy: 0.9603\n",
      "Epoch 10/10\n",
      "1875/1875 [==============================] - 3s 2ms/step - loss: 0.1266 - accuracy: 0.9619\n",
      "313/313 [==============================] - 1s 2ms/step - loss: 0.1730 - accuracy: 0.9515\n",
      "1875/1875 [==============================] - 3s 2ms/step - loss: 0.1157 - accuracy: 0.9656\n",
      "Epoch 1/10\n",
      "1875/1875 [==============================] - 3s 2ms/step - loss: 0.2880 - accuracy: 0.9154\n",
      "Epoch 2/10\n",
      "1875/1875 [==============================] - 3s 2ms/step - loss: 0.1278 - accuracy: 0.9616\n",
      "Epoch 3/10\n",
      "1875/1875 [==============================] - 3s 2ms/step - loss: 0.0928 - accuracy: 0.9715\n",
      "Epoch 4/10\n",
      "1875/1875 [==============================] - 3s 2ms/step - loss: 0.0739 - accuracy: 0.9767\n",
      "Epoch 5/10\n",
      "1875/1875 [==============================] - 3s 2ms/step - loss: 0.0617 - accuracy: 0.9806\n",
      "Epoch 6/10\n",
      "1875/1875 [==============================] - 3s 2ms/step - loss: 0.0503 - accuracy: 0.9842\n",
      "Epoch 7/10\n",
      "1875/1875 [==============================] - 3s 2ms/step - loss: 0.0416 - accuracy: 0.9870\n",
      "Epoch 8/10\n",
      "1875/1875 [==============================] - 3s 2ms/step - loss: 0.0377 - accuracy: 0.9875\n",
      "Epoch 9/10\n",
      "1875/1875 [==============================] - 3s 2ms/step - loss: 0.0332 - accuracy: 0.9886\n",
      "Epoch 10/10\n",
      "1875/1875 [==============================] - 3s 2ms/step - loss: 0.0283 - accuracy: 0.9905\n",
      "313/313 [==============================] - 0s 2ms/step - loss: 0.1030 - accuracy: 0.9732\n",
      "1875/1875 [==============================] - 3s 2ms/step - loss: 0.0266 - accuracy: 0.9916\n",
      "Epoch 1/10\n",
      "1875/1875 [==============================] - 3s 2ms/step - loss: 0.1987 - accuracy: 0.9399\n",
      "Epoch 2/10\n",
      "1875/1875 [==============================] - 3s 2ms/step - loss: 0.0829 - accuracy: 0.9740\n",
      "Epoch 3/10\n",
      "1875/1875 [==============================] - 3s 2ms/step - loss: 0.0562 - accuracy: 0.9824\n",
      "Epoch 4/10\n",
      "1875/1875 [==============================] - 3s 2ms/step - loss: 0.0433 - accuracy: 0.9856\n",
      "Epoch 5/10\n",
      "1875/1875 [==============================] - 3s 2ms/step - loss: 0.0353 - accuracy: 0.9887\n",
      "Epoch 6/10\n",
      "1875/1875 [==============================] - 3s 2ms/step - loss: 0.0298 - accuracy: 0.9901\n",
      "Epoch 7/10\n",
      "1875/1875 [==============================] - 3s 2ms/step - loss: 0.0235 - accuracy: 0.9922\n",
      "Epoch 8/10\n",
      "1875/1875 [==============================] - 3s 2ms/step - loss: 0.0187 - accuracy: 0.9939\n",
      "Epoch 9/10\n",
      "1875/1875 [==============================] - 3s 2ms/step - loss: 0.0211 - accuracy: 0.9929\n",
      "Epoch 10/10\n",
      "1875/1875 [==============================] - 3s 2ms/step - loss: 0.0159 - accuracy: 0.9945\n",
      "313/313 [==============================] - 1s 2ms/step - loss: 0.0839 - accuracy: 0.9816\n",
      "1875/1875 [==============================] - 3s 2ms/step - loss: 0.0103 - accuracy: 0.9965\n",
      "Epoch 1/10\n",
      "1875/1875 [==============================] - 3s 2ms/step - loss: 0.1812 - accuracy: 0.9450\n",
      "Epoch 2/10\n",
      "1875/1875 [==============================] - 3s 2ms/step - loss: 0.0792 - accuracy: 0.9757\n",
      "Epoch 3/10\n",
      "1875/1875 [==============================] - 3s 2ms/step - loss: 0.0547 - accuracy: 0.9831\n",
      "Epoch 4/10\n",
      "1875/1875 [==============================] - 3s 2ms/step - loss: 0.0441 - accuracy: 0.9858\n",
      "Epoch 5/10\n",
      "1875/1875 [==============================] - 3s 2ms/step - loss: 0.0343 - accuracy: 0.9888\n",
      "Epoch 6/10\n",
      "1875/1875 [==============================] - 3s 2ms/step - loss: 0.0303 - accuracy: 0.9902\n",
      "Epoch 7/10\n",
      "1875/1875 [==============================] - 3s 2ms/step - loss: 0.0258 - accuracy: 0.9923\n",
      "Epoch 8/10\n",
      "1875/1875 [==============================] - 3s 2ms/step - loss: 0.0223 - accuracy: 0.9930\n",
      "Epoch 9/10\n",
      "1875/1875 [==============================] - 3s 2ms/step - loss: 0.0179 - accuracy: 0.9947\n",
      "Epoch 10/10\n",
      "1875/1875 [==============================] - 3s 2ms/step - loss: 0.0193 - accuracy: 0.9939\n",
      "313/313 [==============================] - 1s 2ms/step - loss: 0.1055 - accuracy: 0.9797\n",
      "1875/1875 [==============================] - 3s 2ms/step - loss: 0.0149 - accuracy: 0.9956\n"
     ]
    }
   ],
   "source": [
    "model_test_units = []\n",
    "model_train_units = []\n",
    "num_units = [16,64,128,256,512]\n",
    "for n in num_units:\n",
    "    if n==128:\n",
    "        model_test_units.append(model_test_layer[1])\n",
    "        model_train_units.append(model_train_layer[1])\n",
    "        continue\n",
    "    model_x = keras.Sequential(keras.layers.Flatten(input_shape=(28,28)))\n",
    "    model_x.add(keras.layers.Dense(n,activation='relu'))\n",
    "    model_x.add(keras.layers.Dense(n,activation='relu'))\n",
    "    model_x.add(keras.layers.Dense(10,activation='softmax'))\n",
    "    model_x.compile(loss='sparse_categorical_crossentropy',optimizer='adam',metrics=['accuracy'])\n",
    "    n_epochs=10\n",
    "    model_x.fit(X_train,y_train,epochs=n_epochs,verbose=1)\n",
    "    ev_test = model_x.evaluate(X_test,y_test)\n",
    "    ev_train = model_x.evaluate(X_train,y_train)\n",
    "    model_test_units.append(ev_test[-1]*100)\n",
    "    model_train_units.append(ev_train[-1]*100)"
   ]
  },
  {
   "cell_type": "code",
   "execution_count": 16,
   "metadata": {
    "colab": {
     "base_uri": "https://localhost:8080/",
     "height": 0
    },
    "id": "8n22jlXR7z2Q",
    "outputId": "1187e0e9-2609-4d8d-c19a-724d043277e3"
   },
   "outputs": [
    {
     "data": {
      "text/plain": [
       "([95.14999985694885,\n",
       "  97.32000231742859,\n",
       "  97.89999723434448,\n",
       "  98.15999865531921,\n",
       "  97.97000288963318],\n",
       " [96.56333327293396,\n",
       "  99.15500283241272,\n",
       "  99.50666427612305,\n",
       "  99.65166449546814,\n",
       "  99.56333041191101])"
      ]
     },
     "execution_count": 16,
     "metadata": {
      "tags": []
     },
     "output_type": "execute_result"
    }
   ],
   "source": [
    "model_test_units, model_train_units"
   ]
  },
  {
   "cell_type": "code",
   "execution_count": 17,
   "metadata": {
    "colab": {
     "base_uri": "https://localhost:8080/",
     "height": 312
    },
    "id": "DBNcOLnc8dGX",
    "outputId": "50a28af0-b748-4687-8168-279f776fb1b2"
   },
   "outputs": [
    {
     "data": {
      "text/plain": [
       "Text(0.5, 1.0, 'Accuracy vs Number of Units')"
      ]
     },
     "execution_count": 17,
     "metadata": {
      "tags": []
     },
     "output_type": "execute_result"
    },
    {
     "data": {
      "image/png": "[encoded data removed]",
      "text/plain": [
       "<Figure size 432x288 with 1 Axes>"
      ]
     },
     "metadata": {
      "needs_background": "light",
      "tags": []
     },
     "output_type": "display_data"
    }
   ],
   "source": [
    "plt.plot(num_units,model_train_units,'b')\n",
    "plt.plot(num_units,model_test_units,'r')\n",
    "plt.legend(['Training','Testing'])\n",
    "plt.xlabel(\"Number of Units\")\n",
    "plt.ylabel(\"Accuracy (%)\")\n",
    "plt.ylim((95,100),)\n",
    "plt.title(\"Accuracy vs Number of Units\")"
   ]
  },
  {
   "cell_type": "markdown",
   "metadata": {
    "id": "dDBrJ87A9B3S"
   },
   "source": [
    "# VARYING ACTIVATION FUNCTION\n",
    "MODEL:  \n",
    "layers - 2  \n",
    "units - 256  \n",
    "activation - relu, elu, tanh, sigmoid  \n",
    "loss - sparse_categorical_crossentropy  \n",
    "optimizer - adam  \n",
    "epochs - 10"
   ]
  },
  {
   "cell_type": "code",
   "execution_count": 18,
   "metadata": {
    "colab": {
     "base_uri": "https://localhost:8080/",
     "height": 0
    },
    "id": "pjUL6MxC8nLm",
    "outputId": "3ee8f71d-cd84-4211-ca76-98dd8bf9958f",
    "scrolled": true
   },
   "outputs": [
    {
     "name": "stdout",
     "output_type": "stream",
     "text": [
      "Epoch 1/10\n",
      "1875/1875 [==============================] - 4s 2ms/step - loss: 0.2435 - accuracy: 0.9255\n",
      "Epoch 2/10\n",
      "1875/1875 [==============================] - 3s 2ms/step - loss: 0.1102 - accuracy: 0.9645\n",
      "Epoch 3/10\n",
      "1875/1875 [==============================] - 3s 2ms/step - loss: 0.0783 - accuracy: 0.9752\n",
      "Epoch 4/10\n",
      "1875/1875 [==============================] - 3s 2ms/step - loss: 0.0578 - accuracy: 0.9815\n",
      "Epoch 5/10\n",
      "1875/1875 [==============================] - 3s 2ms/step - loss: 0.0479 - accuracy: 0.9840\n",
      "Epoch 6/10\n",
      "1875/1875 [==============================] - 3s 2ms/step - loss: 0.0394 - accuracy: 0.9875\n",
      "Epoch 7/10\n",
      "1875/1875 [==============================] - 3s 2ms/step - loss: 0.0333 - accuracy: 0.9893\n",
      "Epoch 8/10\n",
      "1875/1875 [==============================] - 3s 2ms/step - loss: 0.0282 - accuracy: 0.9906\n",
      "Epoch 9/10\n",
      "1875/1875 [==============================] - 3s 2ms/step - loss: 0.0258 - accuracy: 0.9913\n",
      "Epoch 10/10\n",
      "1875/1875 [==============================] - 3s 2ms/step - loss: 0.0245 - accuracy: 0.9917\n",
      "313/313 [==============================] - 1s 2ms/step - loss: 0.1113 - accuracy: 0.9753\n",
      "1875/1875 [==============================] - 3s 2ms/step - loss: 0.0282 - accuracy: 0.9912\n",
      "Epoch 1/10\n",
      "1875/1875 [==============================] - 3s 2ms/step - loss: 0.2404 - accuracy: 0.9277\n",
      "Epoch 2/10\n",
      "1875/1875 [==============================] - 3s 2ms/step - loss: 0.1065 - accuracy: 0.9669\n",
      "Epoch 3/10\n",
      "1875/1875 [==============================] - 3s 2ms/step - loss: 0.0705 - accuracy: 0.9778\n",
      "Epoch 4/10\n",
      "1875/1875 [==============================] - 3s 2ms/step - loss: 0.0521 - accuracy: 0.9832\n",
      "Epoch 5/10\n",
      "1875/1875 [==============================] - 3s 2ms/step - loss: 0.0390 - accuracy: 0.9876\n",
      "Epoch 6/10\n",
      "1875/1875 [==============================] - 3s 2ms/step - loss: 0.0298 - accuracy: 0.9902\n",
      "Epoch 7/10\n",
      "1875/1875 [==============================] - 3s 2ms/step - loss: 0.0246 - accuracy: 0.9920\n",
      "Epoch 8/10\n",
      "1875/1875 [==============================] - 3s 2ms/step - loss: 0.0202 - accuracy: 0.9930\n",
      "Epoch 9/10\n",
      "1875/1875 [==============================] - 3s 2ms/step - loss: 0.0171 - accuracy: 0.9943\n",
      "Epoch 10/10\n",
      "1875/1875 [==============================] - 3s 2ms/step - loss: 0.0159 - accuracy: 0.9947\n",
      "313/313 [==============================] - 1s 2ms/step - loss: 0.0837 - accuracy: 0.9774\n",
      "1875/1875 [==============================] - 3s 2ms/step - loss: 0.0103 - accuracy: 0.9969\n",
      "Epoch 1/10\n",
      "1875/1875 [==============================] - 3s 2ms/step - loss: 0.3591 - accuracy: 0.8970\n",
      "Epoch 2/10\n",
      "1875/1875 [==============================] - 3s 2ms/step - loss: 0.1503 - accuracy: 0.9543\n",
      "Epoch 3/10\n",
      "1875/1875 [==============================] - 3s 2ms/step - loss: 0.0985 - accuracy: 0.9701\n",
      "Epoch 4/10\n",
      "1875/1875 [==============================] - 3s 2ms/step - loss: 0.0714 - accuracy: 0.9773\n",
      "Epoch 5/10\n",
      "1875/1875 [==============================] - 3s 2ms/step - loss: 0.0524 - accuracy: 0.9833\n",
      "Epoch 6/10\n",
      "1875/1875 [==============================] - 3s 2ms/step - loss: 0.0398 - accuracy: 0.9874\n",
      "Epoch 7/10\n",
      "1875/1875 [==============================] - 3s 2ms/step - loss: 0.0310 - accuracy: 0.9897\n",
      "Epoch 8/10\n",
      "1875/1875 [==============================] - 3s 2ms/step - loss: 0.0242 - accuracy: 0.9921\n",
      "Epoch 9/10\n",
      "1875/1875 [==============================] - 3s 2ms/step - loss: 0.0180 - accuracy: 0.9943\n",
      "Epoch 10/10\n",
      "1875/1875 [==============================] - 3s 2ms/step - loss: 0.0156 - accuracy: 0.9949\n",
      "313/313 [==============================] - 1s 2ms/step - loss: 0.0770 - accuracy: 0.9799\n",
      "1875/1875 [==============================] - 3s 2ms/step - loss: 0.0100 - accuracy: 0.9970\n"
     ]
    }
   ],
   "source": [
    "model_test_activ = []\n",
    "model_train_activ = []\n",
    "activs = ['relu','elu','tanh','sigmoid']\n",
    "for a in activs:\n",
    "    if a == 'relu':\n",
    "        model_test_activ.append(model_test_units[3])\n",
    "        model_train_activ.append(model_train_units[3])\n",
    "        continue\n",
    "    model_x = keras.Sequential(keras.layers.Flatten(input_shape=(28,28)))\n",
    "    model_x.add(keras.layers.Dense(256,activation=a))\n",
    "    model_x.add(keras.layers.Dense(256,activation=a))\n",
    "    model_x.add(keras.layers.Dense(10,activation='softmax'))\n",
    "    model_x.compile(loss='sparse_categorical_crossentropy',optimizer='adam',metrics=['accuracy'])\n",
    "    n_epochs=10\n",
    "    model_x.fit(X_train,y_train,epochs=n_epochs,verbose=1)\n",
    "    ev_test = model_x.evaluate(X_test,y_test)\n",
    "    ev_train = model_x.evaluate(X_train,y_train)\n",
    "    model_test_activ.append(ev_test[-1]*100)\n",
    "    model_train_activ.append(ev_train[-1]*100)"
   ]
  },
  {
   "cell_type": "code",
   "execution_count": 29,
   "metadata": {
    "colab": {
     "base_uri": "https://localhost:8080/",
     "height": 0
    },
    "id": "cSsMfef3_Ijv",
    "outputId": "9376f38e-6b74-4089-c03d-9ea0fe4d0e85"
   },
   "outputs": [
    {
     "data": {
      "text/plain": [
       "([98.15999865531921, 97.53000140190125, 97.7400004863739, 97.99000024795532],\n",
       " [99.65166449546814, 99.1183340549469, 99.68833327293396, 99.70333576202393])"
      ]
     },
     "execution_count": 29,
     "metadata": {
      "tags": []
     },
     "output_type": "execute_result"
    }
   ],
   "source": [
    "model_test_activ, model_train_activ"
   ]
  },
  {
   "cell_type": "code",
   "execution_count": 20,
   "metadata": {
    "colab": {
     "base_uri": "https://localhost:8080/",
     "height": 312
    },
    "id": "8QzwnR-2_sYH",
    "outputId": "910e1cf7-4bfd-48c3-c570-1a91fc957585"
   },
   "outputs": [
    {
     "data": {
      "text/plain": [
       "Text(0.5, 1.0, 'Accuracy vs Activation Function')"
      ]
     },
     "execution_count": 20,
     "metadata": {
      "tags": []
     },
     "output_type": "execute_result"
    },
    {
     "data": {
      "image/png": "[encoded data removed]",
      "text/plain": [
       "<Figure size 432x288 with 1 Axes>"
      ]
     },
     "metadata": {
      "needs_background": "light",
      "tags": []
     },
     "output_type": "display_data"
    }
   ],
   "source": [
    "plt.plot(activs,model_train_activ,'b')\n",
    "plt.plot(activs,model_test_activ,'r')\n",
    "plt.legend(['Training','Testing'])\n",
    "plt.xlabel(\"Activation Function\")\n",
    "plt.ylabel(\"Accuracy (%)\")\n",
    "plt.ylim((96,100),)\n",
    "plt.title(\"Accuracy vs Activation Function\")"
   ]
  },
  {
   "cell_type": "markdown",
   "metadata": {
    "id": "nen2tyzvEFmc"
   },
   "source": [
    "# VARYING BIAS\n",
    "MODEL:  \n",
    "layers - 2  \n",
    "units - 256  \n",
    "activation - relu  \n",
    "loss - sparse_categorical_crossentropy  \n",
    "optimizer - adam  \n",
    "epochs - 10"
   ]
  },
  {
   "cell_type": "code",
   "execution_count": 32,
   "metadata": {
    "colab": {
     "base_uri": "https://localhost:8080/",
     "height": 0
    },
    "id": "SL9EekyTEBpe",
    "outputId": "2cf9f1dc-b70f-4d2c-d35d-a1dc1a5d26f5",
    "scrolled": true
   },
   "outputs": [
    {
     "name": "stdout",
     "output_type": "stream",
     "text": [
      "Epoch 1/10\n",
      "1875/1875 [==============================] - 4s 2ms/step - loss: 0.2010 - accuracy: 0.9396\n",
      "Epoch 2/10\n",
      "1875/1875 [==============================] - 3s 2ms/step - loss: 0.0842 - accuracy: 0.9740\n",
      "Epoch 3/10\n",
      "1875/1875 [==============================] - 3s 2ms/step - loss: 0.0588 - accuracy: 0.9811\n",
      "Epoch 4/10\n",
      "1875/1875 [==============================] - 3s 2ms/step - loss: 0.0436 - accuracy: 0.9861\n",
      "Epoch 5/10\n",
      "1875/1875 [==============================] - 3s 2ms/step - loss: 0.0339 - accuracy: 0.9891\n",
      "Epoch 6/10\n",
      "1875/1875 [==============================] - 3s 2ms/step - loss: 0.0285 - accuracy: 0.9908\n",
      "Epoch 7/10\n",
      "1875/1875 [==============================] - 3s 2ms/step - loss: 0.0244 - accuracy: 0.9919\n",
      "Epoch 8/10\n",
      "1875/1875 [==============================] - 3s 2ms/step - loss: 0.0203 - accuracy: 0.9926\n",
      "Epoch 9/10\n",
      "1875/1875 [==============================] - 3s 2ms/step - loss: 0.0204 - accuracy: 0.9931\n",
      "Epoch 10/10\n",
      "1875/1875 [==============================] - 3s 2ms/step - loss: 0.0167 - accuracy: 0.9950\n",
      "313/313 [==============================] - 1s 2ms/step - loss: 0.1030 - accuracy: 0.9763\n",
      "1875/1875 [==============================] - 3s 2ms/step - loss: 0.0188 - accuracy: 0.9935\n",
      "Epoch 1/10\n",
      "1875/1875 [==============================] - 3s 2ms/step - loss: 0.1987 - accuracy: 0.9401\n",
      "Epoch 2/10\n",
      "1875/1875 [==============================] - 3s 2ms/step - loss: 0.0838 - accuracy: 0.9743\n",
      "Epoch 3/10\n",
      "1875/1875 [==============================] - 3s 2ms/step - loss: 0.0597 - accuracy: 0.9811\n",
      "Epoch 4/10\n",
      "1875/1875 [==============================] - 3s 2ms/step - loss: 0.0450 - accuracy: 0.9854\n",
      "Epoch 5/10\n",
      "1875/1875 [==============================] - 3s 2ms/step - loss: 0.0346 - accuracy: 0.9886\n",
      "Epoch 6/10\n",
      "1875/1875 [==============================] - 3s 2ms/step - loss: 0.0276 - accuracy: 0.9911\n",
      "Epoch 7/10\n",
      "1875/1875 [==============================] - 3s 2ms/step - loss: 0.0228 - accuracy: 0.9922\n",
      "Epoch 8/10\n",
      "1875/1875 [==============================] - 3s 2ms/step - loss: 0.0206 - accuracy: 0.9929\n",
      "Epoch 9/10\n",
      "1875/1875 [==============================] - 3s 2ms/step - loss: 0.0191 - accuracy: 0.9937\n",
      "Epoch 10/10\n",
      "1875/1875 [==============================] - 3s 2ms/step - loss: 0.0178 - accuracy: 0.9941\n",
      "313/313 [==============================] - 1s 2ms/step - loss: 0.0867 - accuracy: 0.9808\n",
      "1875/1875 [==============================] - 3s 2ms/step - loss: 0.0090 - accuracy: 0.9968\n",
      "Epoch 1/10\n",
      "1875/1875 [==============================] - 4s 2ms/step - loss: 0.2016 - accuracy: 0.9402\n",
      "Epoch 2/10\n",
      "1875/1875 [==============================] - 3s 2ms/step - loss: 0.0855 - accuracy: 0.9736\n",
      "Epoch 3/10\n",
      "1875/1875 [==============================] - 3s 2ms/step - loss: 0.0574 - accuracy: 0.9813\n",
      "Epoch 4/10\n",
      "1875/1875 [==============================] - 3s 2ms/step - loss: 0.0436 - accuracy: 0.9859\n",
      "Epoch 5/10\n",
      "1875/1875 [==============================] - 3s 2ms/step - loss: 0.0343 - accuracy: 0.9886\n",
      "Epoch 6/10\n",
      "1875/1875 [==============================] - 3s 2ms/step - loss: 0.0292 - accuracy: 0.9905\n",
      "Epoch 7/10\n",
      "1875/1875 [==============================] - 3s 2ms/step - loss: 0.0240 - accuracy: 0.9921\n",
      "Epoch 8/10\n",
      "1875/1875 [==============================] - 3s 2ms/step - loss: 0.0200 - accuracy: 0.9932\n",
      "Epoch 9/10\n",
      "1875/1875 [==============================] - 3s 2ms/step - loss: 0.0184 - accuracy: 0.9939\n",
      "Epoch 10/10\n",
      "1875/1875 [==============================] - 3s 2ms/step - loss: 0.0180 - accuracy: 0.9941\n",
      "313/313 [==============================] - 0s 2ms/step - loss: 0.1032 - accuracy: 0.9795\n",
      "1875/1875 [==============================] - 3s 2ms/step - loss: 0.0167 - accuracy: 0.9945\n"
     ]
    }
   ],
   "source": [
    "n_epochs = 10\n",
    "model_test_bias = []\n",
    "model_train_bias = []\n",
    "model_test_bias.append(model_test_activ[0])\n",
    "model_train_bias.append(model_train_activ[0])\n",
    "#########################\n",
    "model_01_bias = keras.Sequential([\n",
    "                                  keras.layers.Flatten(input_shape=(28,28)),\n",
    "                                  keras.layers.Dense(256,activation='relu'),\n",
    "                                  keras.layers.Dense(256,activation='relu',use_bias=True),\n",
    "                                  keras.layers.Dense(10,activation='softmax')\n",
    "])\n",
    "model_01_bias.compile(loss = 'sparse_categorical_crossentropy',optimizer='adam',metrics=['accuracy'])\n",
    "model_01_bias.fit(X_train,y_train,epochs=n_epochs,verbose=1)\n",
    "eval_test = model_01_bias.evaluate(X_test,y_test)\n",
    "eval_train = model_01_bias.evaluate(X_train,y_train)\n",
    "model_test_bias.append(eval_test[-1]*100)\n",
    "model_train_bias.append(eval_train[-1]*100)\n",
    "########################\n",
    "model_10_bias = keras.Sequential([\n",
    "                                  keras.layers.Flatten(input_shape=(28,28)),\n",
    "                                  keras.layers.Dense(256,activation='relu',use_bias=True),\n",
    "                                  keras.layers.Dense(256,activation='relu'),\n",
    "                                  keras.layers.Dense(10,activation='softmax')\n",
    "])\n",
    "model_10_bias.compile(loss = 'sparse_categorical_crossentropy',optimizer='adam',metrics=['accuracy'])\n",
    "model_10_bias.fit(X_train,y_train,epochs=n_epochs,verbose=1)\n",
    "eval_test = model_10_bias.evaluate(X_test,y_test)\n",
    "eval_train = model_10_bias.evaluate(X_train,y_train)\n",
    "model_test_bias.append(eval_test[-1]*100)\n",
    "model_train_bias.append(eval_train[-1]*100)\n",
    "#########################\n",
    "model_11_bias = keras.Sequential([\n",
    "                                  keras.layers.Flatten(input_shape=(28,28)),\n",
    "                                  keras.layers.Dense(256,activation='relu',use_bias=True),\n",
    "                                  keras.layers.Dense(256,activation='relu',use_bias=True),\n",
    "                                  keras.layers.Dense(10,activation='softmax')\n",
    "])\n",
    "model_11_bias.compile(loss = 'sparse_categorical_crossentropy',optimizer='adam',metrics=['accuracy'])\n",
    "model_11_bias.fit(X_train,y_train,epochs=n_epochs,verbose=1)\n",
    "eval_test = model_11_bias.evaluate(X_test,y_test)\n",
    "eval_train = model_11_bias.evaluate(X_train,y_train)\n",
    "model_test_bias.append(eval_test[-1]*100)\n",
    "model_train_bias.append(eval_train[-1]*100)"
   ]
  },
  {
   "cell_type": "code",
   "execution_count": 33,
   "metadata": {
    "colab": {
     "base_uri": "https://localhost:8080/",
     "height": 0
    },
    "id": "JMpHx0HuFNy3",
    "outputId": "6ce0a1e0-5360-46f7-c54d-709d6f6ade68"
   },
   "outputs": [
    {
     "data": {
      "text/plain": [
       "([98.15999865531921, 97.63000011444092, 98.07999730110168, 97.94999957084656],\n",
       " [99.65166449546814, 99.3483304977417, 99.6833324432373, 99.4533360004425])"
      ]
     },
     "execution_count": 33,
     "metadata": {
      "tags": []
     },
     "output_type": "execute_result"
    }
   ],
   "source": [
    "model_test_bias,model_train_bias"
   ]
  },
  {
   "cell_type": "code",
   "execution_count": 35,
   "metadata": {
    "colab": {
     "base_uri": "https://localhost:8080/",
     "height": 312
    },
    "id": "XU8EoSxDFx4d",
    "outputId": "842b7f19-89a5-420b-aabc-6f1810d405f5"
   },
   "outputs": [
    {
     "data": {
      "text/plain": [
       "(96.0, 100.0)"
      ]
     },
     "execution_count": 35,
     "metadata": {
      "tags": []
     },
     "output_type": "execute_result"
    },
    {
     "data": {
      "image/png": "[encoded data removed]",
      "text/plain": [
       "<Figure size 432x288 with 1 Axes>"
      ]
     },
     "metadata": {
      "needs_background": "light",
      "tags": []
     },
     "output_type": "display_data"
    }
   ],
   "source": [
    "plt.plot(['NB/NB','NB/B','B/NB','B/B'],model_train_bias,'b')\n",
    "plt.plot(['NB/NB','NB/B','B/NB','B/B'],model_test_bias,'r')\n",
    "plt.title(\"Accuracy vs Bias\")\n",
    "plt.xlabel(\"Bias/No-Bias\")\n",
    "plt.ylabel(\"Accuracy (%)\")\n",
    "plt.legend(['Training','Testing'])\n",
    "plt.ylim((96,100))"
   ]
  },
  {
   "cell_type": "markdown",
   "metadata": {
    "id": "lRC2F5EtKTW4"
   },
   "source": [
    "# VARYING DROPOUT\n",
    "MODEL:  \n",
    "layers - 2  \n",
    "units - 256  \n",
    "activation - relu  \n",
    "loss - sparse_categorical_crossentropy  \n",
    "optimizer - adam  \n",
    "epochs - 10  \n",
    "dropout - none, 0.1, 0.3, 0.5"
   ]
  },
  {
   "cell_type": "code",
   "execution_count": 36,
   "metadata": {
    "colab": {
     "base_uri": "https://localhost:8080/",
     "height": 0
    },
    "id": "tIOIB7wXJe1J",
    "outputId": "d3fb2204-dc37-4c5f-e26b-b308f1ec0238",
    "scrolled": true
   },
   "outputs": [
    {
     "name": "stdout",
     "output_type": "stream",
     "text": [
      "Epoch 1/10\n",
      "1875/1875 [==============================] - 4s 2ms/step - loss: 0.2190 - accuracy: 0.9340\n",
      "Epoch 2/10\n",
      "1875/1875 [==============================] - 4s 2ms/step - loss: 0.0982 - accuracy: 0.9697\n",
      "Epoch 3/10\n",
      "1875/1875 [==============================] - 4s 2ms/step - loss: 0.0712 - accuracy: 0.9770\n",
      "Epoch 4/10\n",
      "1875/1875 [==============================] - 4s 2ms/step - loss: 0.0554 - accuracy: 0.9821\n",
      "Epoch 5/10\n",
      "1875/1875 [==============================] - 4s 2ms/step - loss: 0.0485 - accuracy: 0.9842\n",
      "Epoch 6/10\n",
      "1875/1875 [==============================] - 4s 2ms/step - loss: 0.0423 - accuracy: 0.9856\n",
      "Epoch 7/10\n",
      "1875/1875 [==============================] - 4s 2ms/step - loss: 0.0362 - accuracy: 0.9881\n",
      "Epoch 8/10\n",
      "1875/1875 [==============================] - 4s 2ms/step - loss: 0.0338 - accuracy: 0.9886\n",
      "Epoch 9/10\n",
      "1875/1875 [==============================] - 4s 2ms/step - loss: 0.0293 - accuracy: 0.9902\n",
      "Epoch 10/10\n",
      "1875/1875 [==============================] - 4s 2ms/step - loss: 0.0286 - accuracy: 0.9912\n",
      "313/313 [==============================] - 1s 2ms/step - loss: 0.0703 - accuracy: 0.9826\n",
      "1875/1875 [==============================] - 3s 2ms/step - loss: 0.0112 - accuracy: 0.9964\n",
      "Epoch 1/10\n",
      "1875/1875 [==============================] - 3s 2ms/step - loss: 0.2763 - accuracy: 0.9159\n",
      "Epoch 2/10\n",
      "1875/1875 [==============================] - 4s 2ms/step - loss: 0.1391 - accuracy: 0.9581\n",
      "Epoch 3/10\n",
      "1875/1875 [==============================] - 4s 2ms/step - loss: 0.1123 - accuracy: 0.9660\n",
      "Epoch 4/10\n",
      "1875/1875 [==============================] - 3s 2ms/step - loss: 0.0968 - accuracy: 0.9700\n",
      "Epoch 5/10\n",
      "1875/1875 [==============================] - 4s 2ms/step - loss: 0.0833 - accuracy: 0.9743\n",
      "Epoch 6/10\n",
      "1875/1875 [==============================] - 3s 2ms/step - loss: 0.0729 - accuracy: 0.9778\n",
      "Epoch 7/10\n",
      "1875/1875 [==============================] - 4s 2ms/step - loss: 0.0675 - accuracy: 0.9783\n",
      "Epoch 8/10\n",
      "1875/1875 [==============================] - 3s 2ms/step - loss: 0.0634 - accuracy: 0.9803\n",
      "Epoch 9/10\n",
      "1875/1875 [==============================] - 3s 2ms/step - loss: 0.0609 - accuracy: 0.9810\n",
      "Epoch 10/10\n",
      "1875/1875 [==============================] - 4s 2ms/step - loss: 0.0541 - accuracy: 0.9830\n",
      "313/313 [==============================] - 1s 2ms/step - loss: 0.0720 - accuracy: 0.9806\n",
      "1875/1875 [==============================] - 3s 2ms/step - loss: 0.0193 - accuracy: 0.9935\n",
      "Epoch 1/10\n",
      "1875/1875 [==============================] - 3s 2ms/step - loss: 0.3808 - accuracy: 0.8839\n",
      "Epoch 2/10\n",
      "1875/1875 [==============================] - 3s 2ms/step - loss: 0.2023 - accuracy: 0.9401\n",
      "Epoch 3/10\n",
      "1875/1875 [==============================] - 4s 2ms/step - loss: 0.1702 - accuracy: 0.9495\n",
      "Epoch 4/10\n",
      "1875/1875 [==============================] - 4s 2ms/step - loss: 0.1499 - accuracy: 0.9554\n",
      "Epoch 5/10\n",
      "1875/1875 [==============================] - 4s 2ms/step - loss: 0.1397 - accuracy: 0.9583\n",
      "Epoch 6/10\n",
      "1875/1875 [==============================] - 3s 2ms/step - loss: 0.1299 - accuracy: 0.9612\n",
      "Epoch 7/10\n",
      "1875/1875 [==============================] - 4s 2ms/step - loss: 0.1224 - accuracy: 0.9630\n",
      "Epoch 8/10\n",
      "1875/1875 [==============================] - 3s 2ms/step - loss: 0.1156 - accuracy: 0.9646\n",
      "Epoch 9/10\n",
      "1875/1875 [==============================] - 3s 2ms/step - loss: 0.1147 - accuracy: 0.9664\n",
      "Epoch 10/10\n",
      "1875/1875 [==============================] - 3s 2ms/step - loss: 0.1117 - accuracy: 0.9665\n",
      "313/313 [==============================] - 1s 2ms/step - loss: 0.0717 - accuracy: 0.9788\n",
      "1875/1875 [==============================] - 3s 2ms/step - loss: 0.0367 - accuracy: 0.9882\n"
     ]
    }
   ],
   "source": [
    "model_test_dropout = []\n",
    "model_train_dropout = []\n",
    "model_test_dropout.append(model_test_bias[0])\n",
    "model_train_dropout.append(model_train_bias[0])\n",
    "dpout = [0.1,0.3,0.5]\n",
    "for d in dpout:\n",
    "    model_x = keras.Sequential(keras.layers.Flatten(input_shape=(28,28)))\n",
    "    model_x.add(keras.layers.Dense(256,activation='relu'))\n",
    "    model_x.add(keras.layers.Dropout(d))\n",
    "    model_x.add(keras.layers.Dense(256,activation='relu'))\n",
    "    model_x.add(keras.layers.Dropout(d))\n",
    "    model_x.add(keras.layers.Dense(10,activation='softmax'))\n",
    "    model_x.compile(loss='sparse_categorical_crossentropy',optimizer='adam',metrics=['accuracy'])\n",
    "    n_epochs=10\n",
    "    model_x.fit(X_train,y_train,epochs=n_epochs,verbose=1)\n",
    "    ev_test = model_x.evaluate(X_test,y_test)\n",
    "    ev_train = model_x.evaluate(X_train,y_train)\n",
    "    model_test_dropout.append(ev_test[-1]*100)\n",
    "    model_train_dropout.append(ev_train[-1]*100)"
   ]
  },
  {
   "cell_type": "code",
   "execution_count": 37,
   "metadata": {
    "colab": {
     "base_uri": "https://localhost:8080/",
     "height": 0
    },
    "id": "Y0tm4EOrKSeA",
    "outputId": "6b765bf7-06dd-4f3c-b3b1-727ed6353a16"
   },
   "outputs": [
    {
     "data": {
      "text/plain": [
       "([98.15999865531921, 98.25999736785889, 98.05999994277954, 97.87999987602234],\n",
       " [99.65166449546814, 99.63666796684265, 99.3483304977417, 98.82166385650635])"
      ]
     },
     "execution_count": 37,
     "metadata": {
      "tags": []
     },
     "output_type": "execute_result"
    }
   ],
   "source": [
    "model_test_dropout, model_train_dropout"
   ]
  },
  {
   "cell_type": "code",
   "execution_count": 38,
   "metadata": {
    "colab": {
     "base_uri": "https://localhost:8080/",
     "height": 312
    },
    "id": "sDM4fAAaKwrj",
    "outputId": "034e2652-e02a-4266-d272-5d5748f4d4c4"
   },
   "outputs": [
    {
     "data": {
      "text/plain": [
       "(96.0, 100.0)"
      ]
     },
     "execution_count": 38,
     "metadata": {
      "tags": []
     },
     "output_type": "execute_result"
    },
    {
     "data": {
      "image/png": "[encoded data removed]",
      "text/plain": [
       "<Figure size 432x288 with 1 Axes>"
      ]
     },
     "metadata": {
      "needs_background": "light",
      "tags": []
     },
     "output_type": "display_data"
    }
   ],
   "source": [
    "dpout = [0] + dpout\n",
    "plt.plot(dpout,model_train_dropout,'b')\n",
    "plt.plot(dpout,model_test_dropout,'r')\n",
    "plt.title(\"Accuracy vs Dropout\")\n",
    "plt.xlabel(\"Dropout Ratio\")\n",
    "plt.ylabel(\"Accuracy (%)\")\n",
    "plt.ylim((96,100))"
   ]
  },
  {
   "cell_type": "markdown",
   "metadata": {
    "id": "sVl-hxdkLMBS"
   },
   "source": [
    "# VARYING LOSS FUNCTION\n",
    "MODEL:  \n",
    "layers - 2  \n",
    "units - 256  \n",
    "activation - relu  \n",
    "loss - sparse_categorical_crossentropy, binary_crossentropy  \n",
    "optimizer - adam  \n",
    "epochs - 10  \n",
    "dropout - 0.1"
   ]
  },
  {
   "cell_type": "code",
   "execution_count": 7,
   "metadata": {
    "colab": {
     "base_uri": "https://localhost:8080/",
     "height": 0
    },
    "id": "RvSDoSYKLDhN",
    "outputId": "cf2b2695-a047-4ef8-a73b-82189672cbf7",
    "scrolled": true
   },
   "outputs": [
    {
     "name": "stdout",
     "output_type": "stream",
     "text": [
      "Epoch 1/10\n",
      "1875/1875 [==============================] - 5s 3ms/step - loss: 0.2175 - accuracy: 0.9349\n",
      "Epoch 2/10\n",
      "1875/1875 [==============================] - 5s 3ms/step - loss: 0.0993 - accuracy: 0.9696\n",
      "Epoch 3/10\n",
      "1875/1875 [==============================] - 6s 3ms/step - loss: 0.0741 - accuracy: 0.9768\n",
      "Epoch 4/10\n",
      "1875/1875 [==============================] - 5s 3ms/step - loss: 0.0565 - accuracy: 0.9825\n",
      "Epoch 5/10\n",
      "1875/1875 [==============================] - 5s 3ms/step - loss: 0.0496 - accuracy: 0.9840\n",
      "Epoch 6/10\n",
      "1875/1875 [==============================] - 5s 3ms/step - loss: 0.0405 - accuracy: 0.9873\n",
      "Epoch 7/10\n",
      "1875/1875 [==============================] - 6s 3ms/step - loss: 0.0373 - accuracy: 0.9877\n",
      "Epoch 8/10\n",
      "1875/1875 [==============================] - 6s 3ms/step - loss: 0.0325 - accuracy: 0.9897\n",
      "Epoch 9/10\n",
      "1875/1875 [==============================] - 5s 3ms/step - loss: 0.0298 - accuracy: 0.9905\n",
      "Epoch 10/10\n",
      "1875/1875 [==============================] - 6s 3ms/step - loss: 0.0277 - accuracy: 0.9912\n",
      "313/313 [==============================] - 1s 2ms/step - loss: 0.0924 - accuracy: 0.9763\n",
      "1875/1875 [==============================] - 5s 2ms/step - loss: 0.0253 - accuracy: 0.9914\n"
     ]
    }
   ],
   "source": [
    "model_test_loss = []\n",
    "model_train_loss = []\n",
    "# model_test_loss.append(model_test_dropout[1])\n",
    "model_test_loss.append(98.25999736785889)\n",
    "# model_train_loss.append(model_train_dropout[1])\n",
    "model_train_loss.append(99.63666796684265)\n",
    "model_x = keras.Sequential(keras.layers.Flatten(input_shape=(28,28)))\n",
    "model_x.add(keras.layers.Dense(256,activation='relu'))\n",
    "model_x.add(keras.layers.Dropout(0.1)),\n",
    "model_x.add(keras.layers.Dense(256,activation='relu'))\n",
    "model_x.add(keras.layers.Dropout(0.1)),\n",
    "model_x.add(keras.layers.Dense(10,activation='softmax'))\n",
    "model_x.compile(loss='categorical_crossentropy',optimizer='adam',metrics=['accuracy'])\n",
    "n_epochs=10\n",
    "model_x.fit(X_train,y_cat_train,epochs=n_epochs,verbose=1)\n",
    "ev_test = model_x.evaluate(X_test,y_cat_test)\n",
    "ev_train = model_x.evaluate(X_train,y_cat_train)\n",
    "model_test_loss.append(ev_test[-1]*100)\n",
    "model_train_loss.append(ev_train[-1]*100)"
   ]
  },
  {
   "cell_type": "code",
   "execution_count": 8,
   "metadata": {
    "colab": {
     "base_uri": "https://localhost:8080/",
     "height": 324
    },
    "id": "BQBA_iVKLoYK",
    "outputId": "251d5bd4-5b8a-4210-849a-541827dec4a5"
   },
   "outputs": [
    {
     "data": {
      "text/plain": [
       "Text(0, 0.5, 'Accuracy (%)')"
      ]
     },
     "execution_count": 8,
     "metadata": {},
     "output_type": "execute_result"
    },
    {
     "data": {
      "image/png": "[encoded data removed]",
      "text/plain": [
       "<Figure size 432x288 with 1 Axes>"
      ]
     },
     "metadata": {
      "needs_background": "light"
     },
     "output_type": "display_data"
    }
   ],
   "source": [
    "losses = ['sparse categorical\\ncrossentropy','categorical\\ncrossentropy']\n",
    "# plt.figure()\n",
    "plt.plot(losses, model_train_loss,'b')\n",
    "plt.plot(losses, model_test_loss,'r')\n",
    "plt.bar(losses, model_test_loss, alpha=0.2)\n",
    "plt.ylim((96,100))\n",
    "plt.legend(['Training','Test'])\n",
    "plt.title(\"Accuracy vs Loss Function\")\n",
    "plt.xlabel(\"Loss Function\")\n",
    "plt.ylabel(\"Accuracy (%)\")"
   ]
  },
  {
   "cell_type": "markdown",
   "metadata": {
    "id": "x_uK97nXm8MU"
   },
   "source": [
    "# VARYING OPTIMIZER\n",
    "MODEL:  \n",
    "layers - 2  \n",
    "units - 256  \n",
    "activation - relu  \n",
    "loss - sparse_categorical_crossentropy, binary_crossentropy  \n",
    "optimizer - adam,rmsprop,adagrad,sgd  \n",
    "epochs - 10  \n",
    "dropout - 0.1"
   ]
  },
  {
   "cell_type": "code",
   "execution_count": 14,
   "metadata": {
    "colab": {
     "base_uri": "https://localhost:8080/",
     "height": 0
    },
    "id": "4k6JZA3VMKrd",
    "outputId": "c59a58f4-adec-48ba-9c78-303760ac568e",
    "scrolled": true
   },
   "outputs": [
    {
     "name": "stdout",
     "output_type": "stream",
     "text": [
      "Epoch 1/10\n",
      "1875/1875 [==============================] - 4s 2ms/step - loss: 0.2216 - accuracy: 0.9338\n",
      "Epoch 2/10\n",
      "1875/1875 [==============================] - 4s 2ms/step - loss: 0.1123 - accuracy: 0.9689\n",
      "Epoch 3/10\n",
      "1875/1875 [==============================] - 4s 2ms/step - loss: 0.0909 - accuracy: 0.9760\n",
      "Epoch 4/10\n",
      "1875/1875 [==============================] - 4s 2ms/step - loss: 0.0797 - accuracy: 0.9798\n",
      "Epoch 5/10\n",
      "1875/1875 [==============================] - 4s 2ms/step - loss: 0.0800 - accuracy: 0.9812\n",
      "Epoch 6/10\n",
      "1875/1875 [==============================] - 4s 2ms/step - loss: 0.0733 - accuracy: 0.9833\n",
      "Epoch 7/10\n",
      "1875/1875 [==============================] - 4s 2ms/step - loss: 0.0693 - accuracy: 0.9844\n",
      "Epoch 8/10\n",
      "1875/1875 [==============================] - 4s 2ms/step - loss: 0.0670 - accuracy: 0.9853\n",
      "Epoch 9/10\n",
      "1875/1875 [==============================] - 4s 2ms/step - loss: 0.0642 - accuracy: 0.9863\n",
      "Epoch 10/10\n",
      "1875/1875 [==============================] - 4s 2ms/step - loss: 0.0657 - accuracy: 0.9868\n",
      "313/313 [==============================] - 1s 2ms/step - loss: 0.1256 - accuracy: 0.9799\n",
      "1875/1875 [==============================] - 3s 2ms/step - loss: 0.0228 - accuracy: 0.9946\n",
      "Epoch 1/10\n",
      "1875/1875 [==============================] - 4s 2ms/step - loss: 1.1652 - accuracy: 0.7060\n",
      "Epoch 2/10\n",
      "1875/1875 [==============================] - 4s 2ms/step - loss: 0.5445 - accuracy: 0.8495\n",
      "Epoch 3/10\n",
      "1875/1875 [==============================] - 4s 2ms/step - loss: 0.4418 - accuracy: 0.8760\n",
      "Epoch 4/10\n",
      "1875/1875 [==============================] - 4s 2ms/step - loss: 0.3956 - accuracy: 0.8871\n",
      "Epoch 5/10\n",
      "1875/1875 [==============================] - 4s 2ms/step - loss: 0.3669 - accuracy: 0.8952\n",
      "Epoch 6/10\n",
      "1875/1875 [==============================] - 4s 2ms/step - loss: 0.3459 - accuracy: 0.9007\n",
      "Epoch 7/10\n",
      "1875/1875 [==============================] - 4s 2ms/step - loss: 0.3288 - accuracy: 0.9052\n",
      "Epoch 8/10\n",
      "1875/1875 [==============================] - 4s 2ms/step - loss: 0.3142 - accuracy: 0.9101\n",
      "Epoch 9/10\n",
      "1875/1875 [==============================] - 4s 2ms/step - loss: 0.3040 - accuracy: 0.9122\n",
      "Epoch 10/10\n",
      "1875/1875 [==============================] - 4s 2ms/step - loss: 0.2930 - accuracy: 0.9155\n",
      "313/313 [==============================] - 1s 2ms/step - loss: 0.2492 - accuracy: 0.9295\n",
      "1875/1875 [==============================] - 3s 2ms/step - loss: 0.2563 - accuracy: 0.9266\n",
      "Epoch 1/10\n",
      "1875/1875 [==============================] - 4s 2ms/step - loss: 0.6622 - accuracy: 0.8206\n",
      "Epoch 2/10\n",
      "1875/1875 [==============================] - 4s 2ms/step - loss: 0.3169 - accuracy: 0.9072\n",
      "Epoch 3/10\n",
      "1875/1875 [==============================] - 4s 2ms/step - loss: 0.2589 - accuracy: 0.9257\n",
      "Epoch 4/10\n",
      "1875/1875 [==============================] - 4s 2ms/step - loss: 0.2192 - accuracy: 0.9358\n",
      "Epoch 5/10\n",
      "1875/1875 [==============================] - 4s 2ms/step - loss: 0.1909 - accuracy: 0.9436\n",
      "Epoch 6/10\n",
      "1875/1875 [==============================] - 3s 2ms/step - loss: 0.1697 - accuracy: 0.9506\n",
      "Epoch 7/10\n",
      "1875/1875 [==============================] - 4s 2ms/step - loss: 0.1515 - accuracy: 0.9560\n",
      "Epoch 8/10\n",
      "1875/1875 [==============================] - 3s 2ms/step - loss: 0.1400 - accuracy: 0.9589\n",
      "Epoch 9/10\n",
      "1875/1875 [==============================] - 4s 2ms/step - loss: 0.1272 - accuracy: 0.9625\n",
      "Epoch 10/10\n",
      "1875/1875 [==============================] - 3s 2ms/step - loss: 0.1178 - accuracy: 0.9652\n",
      "313/313 [==============================] - 1s 2ms/step - loss: 0.1048 - accuracy: 0.9686\n",
      "1875/1875 [==============================] - 4s 2ms/step - loss: 0.0922 - accuracy: 0.9733\n"
     ]
    }
   ],
   "source": [
    "model_test_optim = []\n",
    "model_train_optim = []\n",
    "model_test_optim.append(model_test_loss[0])\n",
    "model_train_optim.append(model_train_loss[0])\n",
    "opti = ['rmsprop','adagrad','sgd']\n",
    "for o in opti:\n",
    "    model_x = keras.Sequential(keras.layers.Flatten(input_shape=(28,28)))\n",
    "    model_x.add(keras.layers.Dense(256,activation='relu'))\n",
    "    model_x.add(keras.layers.Dropout(0.1)),\n",
    "    model_x.add(keras.layers.Dense(256,activation='relu'))\n",
    "    model_x.add(keras.layers.Dropout(0.1)),\n",
    "    model_x.add(keras.layers.Dense(10,activation='softmax'))\n",
    "    model_x.compile(loss='sparse_categorical_crossentropy',optimizer=o,metrics=['accuracy'])\n",
    "    n_epochs=10\n",
    "    model_x.fit(X_train,y_train,epochs=n_epochs,verbose=1)\n",
    "    ev_test = model_x.evaluate(X_test,y_test)\n",
    "    ev_train = model_x.evaluate(X_train,y_train)\n",
    "    model_test_optim.append(ev_test[-1]*100)\n",
    "    model_train_optim.append(ev_train[-1]*100)"
   ]
  },
  {
   "cell_type": "code",
   "execution_count": 15,
   "metadata": {
    "colab": {
     "base_uri": "https://localhost:8080/",
     "height": 0
    },
    "id": "BqQ0dpP1k1hx",
    "outputId": "6be6beb9-0270-418b-ed85-c4203d887371"
   },
   "outputs": [
    {
     "data": {
      "text/plain": [
       "([98.25999736785889, 97.99000024795532, 92.94999837875366, 96.85999751091003],\n",
       " [99.63666796684265, 99.4616687297821, 92.65833497047424, 97.32666611671448])"
      ]
     },
     "execution_count": 15,
     "metadata": {
      "tags": []
     },
     "output_type": "execute_result"
    }
   ],
   "source": [
    "model_test_optim, model_train_optim"
   ]
  },
  {
   "cell_type": "code",
   "execution_count": 16,
   "metadata": {
    "colab": {
     "base_uri": "https://localhost:8080/",
     "height": 312
    },
    "id": "0aZ3j5otlY87",
    "outputId": "25e4aad1-bb54-452f-b04a-123472744227",
    "scrolled": true
   },
   "outputs": [
    {
     "data": {
      "text/plain": [
       "Text(0, 0.5, 'Accuracy (%)')"
      ]
     },
     "execution_count": 16,
     "metadata": {
      "tags": []
     },
     "output_type": "execute_result"
    },
    {
     "data": {
      "image/png": "[encoded data removed]",
      "text/plain": [
       "<Figure size 432x288 with 1 Axes>"
      ]
     },
     "metadata": {
      "needs_background": "light",
      "tags": []
     },
     "output_type": "display_data"
    }
   ],
   "source": [
    "opti = ['adam'] + opti\n",
    "plt.plot(opti,model_train_optim,'b')\n",
    "plt.plot(opti,model_test_optim,'r')\n",
    "plt.legend(['Training','Testing'])\n",
    "plt.title(\"Accuracy vs Optimizer\")\n",
    "plt.xlabel(\"Optimizer\")\n",
    "plt.ylabel(\"Accuracy (%)\")"
   ]
  },
  {
   "cell_type": "code",
   "execution_count": null,
   "metadata": {
    "id": "neNWIAJqmDdh"
   },
   "outputs": [],
   "source": []
  }
 ],
 "metadata": {
  "accelerator": "GPU",
  "colab": {
   "collapsed_sections": [],
   "name": "NN_New_Final.ipynb",
   "provenance": []
  },
  "kernelspec": {
   "display_name": "Python 3",
   "language": "python",
   "name": "python3"
  },
  "language_info": {
   "codemirror_mode": {
    "name": "ipython",
    "version": 3
   },
   "file_extension": ".py",
   "mimetype": "text/x-python",
   "name": "python",
   "nbconvert_exporter": "python",
   "pygments_lexer": "ipython3",
   "version": "3.7.6"
  }
 },
 "nbformat": 4,
 "nbformat_minor": 1
}
